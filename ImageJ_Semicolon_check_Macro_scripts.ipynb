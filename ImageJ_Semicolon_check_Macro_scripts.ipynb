{
 "cells": [
  {
   "cell_type": "markdown",
   "id": "86b16b86",
   "metadata": {},
   "source": [
    "# Semicolon Checker in ImageJ Macro Scripts"
   ]
  },
  {
   "cell_type": "markdown",
   "id": "5df5e55f",
   "metadata": {},
   "source": [
    "This script checks ImageJ Macro scrips (ImageJ language) for a common syntax mistake - missing ';' (semicolon) at the end of sentences.\n",
    "\n",
    "Requirements:\n",
    "The script assumes that you follow good code writing by writing each code sentence in each line. (example given below)\n",
    "\n",
    "The script ignores lines with other common ImageJ macro patterns:\n",
    "- { , at the end of lines (usually for loops and if statements)\n",
    "- } , at the beginning of lines (usually for loops and if statements)\n",
    "- / , at the beginning (usually used to comments)\n",
    "- spaces at the beginning are also not a problem\n",
    "\n",
    "\n",
    "Example of an ImageJ script code that works with the script (following the rules above):\n",
    "________________________________________________________________________________________\n",
    "//function that performs simple mathmatical operations with two numbers\n",
    "\n",
    "function do_math_clean(operation, x, y){\n",
    "\n",
    "\tif (operation == \"sum\")\treturn = x + y;\n",
    "    \n",
    "\tif (operation == \"subtract\") return = x - y;\n",
    "    \n",
    "\tif (operation == \"multiply\") return = x * y;\n",
    "    \n",
    "\tif (operation == \"divide\") return = x / y;\n",
    "    \n",
    "\telse{\n",
    "\t\tprint(\"Input not valid. Valid operations: add, substract, divide, multuply\");\n",
    "        \n",
    "\t\treturn NaN;\n",
    "        \n",
    "\t}\n",
    "    \n",
    "}\n"
   ]
  },
  {
   "cell_type": "code",
   "execution_count": null,
   "id": "0768f841",
   "metadata": {},
   "outputs": [],
   "source": [
    "#import regex\n",
    "import re\n",
    "\n",
    "#use regex to find the apropriate text patterns \n",
    "missing_semicolon_pattern = re.compile(r'^(?!\\/|\\{)[^;{]+(?<!\\})$')\n",
    "\n",
    "#open file for analysis\n",
    "with open(r'C:\\Users\\nihon\\OneDrive\\Cursos\\2023-03 ImageJ and Fiji macro scripting (at IGC)\\02_afternoon\\day2_fucntion_operations.ijm', 'r') as f:\n",
    "    lines = f.readlines()\n",
    "\n",
    "#count wrong sentences    \n",
    "wrong_lines = 0\n",
    "#check for pattern line by line\n",
    "for i, line in enumerate(lines):\n",
    "    if missing_semicolon_pattern.search(line.strip()):\n",
    "        print(f\"Missing semicolon on line {i+1}: {line.strip()}\")\n",
    "        wrong_lines +=1\n",
    "        \n",
    "if wrong_lines == 0:\n",
    "    print(\"No ';' is missing.\")\n",
    "\n"
   ]
  }
 ],
 "metadata": {
  "kernelspec": {
   "display_name": "Python 3 (ipykernel)",
   "language": "python",
   "name": "python3"
  },
  "language_info": {
   "codemirror_mode": {
    "name": "ipython",
    "version": 3
   },
   "file_extension": ".py",
   "mimetype": "text/x-python",
   "name": "python",
   "nbconvert_exporter": "python",
   "pygments_lexer": "ipython3",
   "version": "3.9.13"
  }
 },
 "nbformat": 4,
 "nbformat_minor": 5
}
